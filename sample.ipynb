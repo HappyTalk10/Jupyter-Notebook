{
 "cells": [
  {
   "cell_type": "code",
   "execution_count": 1,
   "id": "01e99874",
   "metadata": {},
   "outputs": [
    {
     "ename": "KeyError",
     "evalue": "'current_weather'",
     "output_type": "error",
     "traceback": [
      "\u001b[31m---------------------------------------------------------------------------\u001b[39m",
      "\u001b[31mKeyError\u001b[39m                                  Traceback (most recent call last)",
      "\u001b[36mCell\u001b[39m\u001b[36m \u001b[39m\u001b[32mIn[1]\u001b[39m\u001b[32m, line 11\u001b[39m\n\u001b[32m      8\u001b[39m data = response.json()\n\u001b[32m     10\u001b[39m \u001b[38;5;66;03m# 現在の天気情報を取得\u001b[39;00m\n\u001b[32m---> \u001b[39m\u001b[32m11\u001b[39m weather = \u001b[43mdata\u001b[49m\u001b[43m[\u001b[49m\u001b[33;43m\"\u001b[39;49m\u001b[33;43mcurrent_weather\u001b[39;49m\u001b[33;43m\"\u001b[39;49m\u001b[43m]\u001b[49m\n\u001b[32m     13\u001b[39m \u001b[38;5;66;03m# 結果を表示\u001b[39;00m\n\u001b[32m     14\u001b[39m \u001b[38;5;28mprint\u001b[39m(\u001b[33m\"\u001b[39m\u001b[33m津市の今日の天気:\u001b[39m\u001b[33m\"\u001b[39m)\n",
      "\u001b[31mKeyError\u001b[39m: 'current_weather'"
     ]
    }
   ],
   "source": [
    "import requests\n",
    "\n",
    "# 津市の緯度・経度とタイムゾーンを指定\n",
    "url = \"https://api.open-meteo.com/v1/forecast?latitude=34.7303&amp;longitude=136.5086&amp;current_weather=true&amp;timezone=Asia%2FTokyo\"\n",
    "\n",
    "# APIにアクセス\n",
    "response = requests.get(url)\n",
    "data = response.json()\n",
    "\n",
    "# 現在の天気情報を取得\n",
    "weather = data[\"current_weather\"]\n",
    "\n",
    "# 結果を表示\n",
    "print(\"津市の今日の天気:\")\n",
    "print(f\"気温: {weather['temperature']}°C\")\n",
    "print(f\"風速: {weather['windspeed']} m/s\")\n",
    "print(f\"天気コード: {weather['weathercode']}\")\n"
   ]
  },
  {
   "cell_type": "code",
   "execution_count": 2,
   "id": "d7a47c38",
   "metadata": {},
   "outputs": [
    {
     "name": "stdout",
     "output_type": "stream",
     "text": [
      "津市の今日の天気:\n",
      "気温: 23.2°C\n",
      "風速: 13.2 km/h\n",
      "天気コード: 1\n"
     ]
    }
   ],
   "source": [
    "import requests\n",
    "\n",
    "# 津市の緯度・経度とタイムゾーンを指定\n",
    "url = \"https://api.open-meteo.com/v1/forecast?latitude=34.7303&longitude=136.5086&current_weather=true&timezone=Asia/Tokyo\"\n",
    "\n",
    "# APIにアクセス\n",
    "response = requests.get(url)\n",
    "data = response.json()\n",
    "\n",
    "# 現在の天気情報を取得\n",
    "weather = data[\"current_weather\"]\n",
    "\n",
    "# 結果を表示\n",
    "print(\"津市の今日の天気:\")\n",
    "print(f\"気温: {weather['temperature']}°C\")\n",
    "print(f\"風速: {weather['windspeed']} km/h\")  # ← 単位が km/h なので修正\n",
    "print(f\"天気コード: {weather['weathercode']}\")\n"
   ]
  },
  {
   "cell_type": "code",
   "execution_count": 3,
   "id": "2caf4033",
   "metadata": {},
   "outputs": [
    {
     "name": "stdout",
     "output_type": "stream",
     "text": [
      "津市の今日の天気:\n",
      "気温: 23.2°C\n",
      "風速: 13.2 km/h\n",
      "天気: 晴れ\n"
     ]
    }
   ],
   "source": [
    "import requests\n",
    "\n",
    "# 津市の緯度・経度とタイムゾーンを指定\n",
    "url = \"https://api.open-meteo.com/v1/forecast?latitude=34.7303&longitude=136.5086&current_weather=true&timezone=Asia/Tokyo\"\n",
    "\n",
    "# APIにアクセス\n",
    "response = requests.get(url)\n",
    "data = response.json()\n",
    "\n",
    "# 現在の天気情報を取得\n",
    "weather = data[\"current_weather\"]\n",
    "\n",
    "# weathercode の対応表（簡易版）\n",
    "weather_code_map = {\n",
    "    0: \"快晴\",\n",
    "    1: \"晴れ\",\n",
    "    2: \"一部曇り\",\n",
    "    3: \"曇り\",\n",
    "    45: \"霧\",\n",
    "    48: \"霧（濃い霧）\",\n",
    "    51: \"霧雨（弱い）\",\n",
    "    53: \"霧雨（中程度）\",\n",
    "    55: \"霧雨（強い）\",\n",
    "    61: \"雨（弱い）\",\n",
    "    63: \"雨（中程度）\",\n",
    "    65: \"雨（強い）\",\n",
    "    71: \"雪（弱い）\",\n",
    "    73: \"雪（中程度）\",\n",
    "    75: \"雪（強い）\",\n",
    "    80: \"にわか雨（弱い）\",\n",
    "    81: \"にわか雨（中程度）\",\n",
    "    82: \"にわか雨（激しい）\",\n",
    "    95: \"雷雨\",\n",
    "    96: \"雷雨（ひょうを伴う・弱い）\",\n",
    "    99: \"雷雨（ひょうを伴う・強い）\",\n",
    "}\n",
    "\n",
    "# コードを日本語に変換（存在しない場合はそのまま数値表示）\n",
    "weather_jp = weather_code_map.get(weather[\"weathercode\"], f\"不明（コード: {weather['weathercode']}）\")\n",
    "\n",
    "# 結果を表示\n",
    "print(\"津市の今日の天気:\")\n",
    "print(f\"気温: {weather['temperature']}°C\")\n",
    "print(f\"風速: {weather['windspeed']} km/h\")\n",
    "print(f\"天気: {weather_jp}\")\n"
   ]
  }
 ],
 "metadata": {
  "kernelspec": {
   "display_name": "Python 3 (ipykernel)",
   "language": "python",
   "name": "python3"
  },
  "language_info": {
   "codemirror_mode": {
    "name": "ipython",
    "version": 3
   },
   "file_extension": ".py",
   "mimetype": "text/x-python",
   "name": "python",
   "nbconvert_exporter": "python",
   "pygments_lexer": "ipython3",
   "version": "3.12.1"
  }
 },
 "nbformat": 4,
 "nbformat_minor": 5
}
