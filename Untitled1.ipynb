{
 "cells": [
  {
   "cell_type": "code",
   "execution_count": 8,
   "id": "d88c4e03-655a-464c-9817-d8a4ccb46264",
   "metadata": {},
   "outputs": [
    {
     "name": "stdout",
     "output_type": "stream",
     "text": [
      "5\n",
      "Hello,World\n"
     ]
    }
   ],
   "source": [
    "print(2+3)\n",
    "print(\"Hello,World\")\n"
   ]
  },
  {
   "cell_type": "code",
   "execution_count": 3,
   "id": "aa8f8a26",
   "metadata": {},
   "outputs": [
    {
     "name": "stdout",
     "output_type": "stream",
     "text": [
      "津市の今日の天気:\n",
      "気温: 31.7°C\n",
      "風速: 13.7 m/s\n",
      "天気コード: 1\n"
     ]
    }
   ],
   "source": [
    "import requests\n",
    "# 津市の緯度・経度とタイムゾーンを指定\n",
    "url = \"https://api.open-meteo.com/v1/forecast?latitude=34.7303&longitude=136.5086&current_weather=true&timezone=Asia%2FTokyo\"\n",
    "\n",
    "# APIにアクセス\n",
    "response = requests.get(url)\n",
    "data = response.json()\n",
    "\n",
    "# 現在の天気情報を取得\n",
    "weather = data[\"current_weather\"]\n",
    "\n",
    "# 結果を表示\n",
    "print(\"津市の今日の天気:\")\n",
    "print(f\"気温: {weather['temperature']}°C\")\n",
    "print(f\"風速: {weather['windspeed']} m/s\")\n",
    "print(f\"天気コード: {weather['weathercode']}\")\n"
   ]
  },
  {
   "cell_type": "code",
   "execution_count": 1,
   "id": "8f9cef70",
   "metadata": {},
   "outputs": [
    {
     "name": "stdout",
     "output_type": "stream",
     "text": [
      "津市の今日の天気:\n",
      "気温: 31.7°C\n",
      "風速: 13.7 m/s\n",
      "天気コード: 1\n"
     ]
    }
   ],
   "source": [
    "import requests\n",
    "\n",
    "# 津市の天気情報を取得（Open-Meteo APIを利用）\n",
    "url = \"https://api.open-meteo.com/v1/forecast?latitude=34.7303&longitude=136.5086&current_weather=true\"\n",
    "response = requests.get(url)\n",
    "weather = response.json()[\"current_weather\"]\n",
    "\n",
    "print(f\"津市の今日の天気:\")\n",
    "print(f\"気温: {weather['temperature']}°C\")\n",
    "print(f\"風速: {weather['windspeed']} m/s\")\n",
    "print(f\"天気コード: {weather['weathercode']}\")"
   ]
  },
  {
   "cell_type": "code",
   "execution_count": 2,
   "id": "e6052515",
   "metadata": {},
   "outputs": [
    {
     "name": "stdout",
     "output_type": "stream",
     "text": [
      "2025-09-18\n"
     ]
    }
   ],
   "source": [
    "from datetime import date\n",
    "\n",
    "print(date.today())"
   ]
  },
  {
   "cell_type": "code",
   "execution_count": 2,
   "id": "d03155fe",
   "metadata": {},
   "outputs": [
    {
     "name": "stdout",
     "output_type": "stream",
     "text": [
      "今日の日付: 2025-09-18\n",
      "曜日: 木曜日\n",
      "1月1日から261日目です\n"
     ]
    }
   ],
   "source": [
    "from datetime import date\n",
    "\n",
    "today = date.today()\n",
    "weekday_en = today.strftime('%A')\n",
    "weekday_ja_list = ['月曜日', '火曜日', '水曜日', '木曜日', '金曜日', '土曜日', '日曜日']\n",
    "weekday_ja = weekday_ja_list[today.weekday()]\n",
    "days_from_jan1 = (today - date(today.year, 1, 1)).days + 1\n",
    "\n",
    "print(f\"今日の日付: {today}\")\n",
    "print(f\"曜日: {weekday_ja}\")\n",
    "print(f\"1月1日から{days_from_jan1}日目です\")"
   ]
  }
 ],
 "metadata": {
  "kernelspec": {
   "display_name": "Python 3",
   "language": "python",
   "name": "python3"
  },
  "language_info": {
   "codemirror_mode": {
    "name": "ipython",
    "version": 3
   },
   "file_extension": ".py",
   "mimetype": "text/x-python",
   "name": "python",
   "nbconvert_exporter": "python",
   "pygments_lexer": "ipython3",
   "version": "3.12.1"
  }
 },
 "nbformat": 4,
 "nbformat_minor": 5
}
